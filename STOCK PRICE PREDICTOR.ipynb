{
 "cells": [
  {
   "cell_type": "code",
   "execution_count": 27,
   "id": "87e66284",
   "metadata": {},
   "outputs": [],
   "source": [
    "\n",
    "import pandas as pd\n",
    "import numpy as np\n",
    "import matplotlib.pyplot as plt\n",
    "import seaborn as sns\n",
    "import datetime as dt\n",
    "import tensorflow\n",
    "from sklearn.preprocessing import MinMaxScaler\n",
    "from tensorflow.keras.models import Sequential\n",
    "from tensorflow.keras.layers import Dense,Dropout,LSTM"
   ]
  },
  {
   "cell_type": "code",
   "execution_count": 2,
   "id": "351ce324",
   "metadata": {},
   "outputs": [],
   "source": [
    "#loading the dataset and exploring it\n",
    "df =pd.read_excel('C:/Users/prant/Downloads/stockprice.xlsx')"
   ]
  },
  {
   "cell_type": "code",
   "execution_count": 3,
   "id": "5d230359",
   "metadata": {},
   "outputs": [
    {
     "data": {
      "text/html": [
       "<div>\n",
       "<style scoped>\n",
       "    .dataframe tbody tr th:only-of-type {\n",
       "        vertical-align: middle;\n",
       "    }\n",
       "\n",
       "    .dataframe tbody tr th {\n",
       "        vertical-align: top;\n",
       "    }\n",
       "\n",
       "    .dataframe thead th {\n",
       "        text-align: right;\n",
       "    }\n",
       "</style>\n",
       "<table border=\"1\" class=\"dataframe\">\n",
       "  <thead>\n",
       "    <tr style=\"text-align: right;\">\n",
       "      <th></th>\n",
       "      <th>Date</th>\n",
       "      <th>Open</th>\n",
       "      <th>High</th>\n",
       "      <th>Low</th>\n",
       "      <th>Close</th>\n",
       "      <th>Adj Close</th>\n",
       "      <th>Volume</th>\n",
       "    </tr>\n",
       "  </thead>\n",
       "  <tbody>\n",
       "    <tr>\n",
       "      <th>0</th>\n",
       "      <td>2018-02-05</td>\n",
       "      <td>262.000000</td>\n",
       "      <td>267.899994</td>\n",
       "      <td>250.029999</td>\n",
       "      <td>254.259995</td>\n",
       "      <td>254.259995</td>\n",
       "      <td>11896100.0</td>\n",
       "    </tr>\n",
       "    <tr>\n",
       "      <th>1</th>\n",
       "      <td>2018-02-06</td>\n",
       "      <td>247.699997</td>\n",
       "      <td>266.700012</td>\n",
       "      <td>245.000000</td>\n",
       "      <td>265.720001</td>\n",
       "      <td>265.720001</td>\n",
       "      <td>12595800.0</td>\n",
       "    </tr>\n",
       "    <tr>\n",
       "      <th>2</th>\n",
       "      <td>2018-02-07</td>\n",
       "      <td>266.579987</td>\n",
       "      <td>272.450012</td>\n",
       "      <td>264.329987</td>\n",
       "      <td>264.559998</td>\n",
       "      <td>264.559998</td>\n",
       "      <td>8981500.0</td>\n",
       "    </tr>\n",
       "    <tr>\n",
       "      <th>3</th>\n",
       "      <td>2018-02-08</td>\n",
       "      <td>267.079987</td>\n",
       "      <td>267.619995</td>\n",
       "      <td>250.000000</td>\n",
       "      <td>250.100006</td>\n",
       "      <td>250.100006</td>\n",
       "      <td>9306700.0</td>\n",
       "    </tr>\n",
       "    <tr>\n",
       "      <th>4</th>\n",
       "      <td>2018-02-09</td>\n",
       "      <td>253.850006</td>\n",
       "      <td>255.800003</td>\n",
       "      <td>236.110001</td>\n",
       "      <td>249.470001</td>\n",
       "      <td>249.470001</td>\n",
       "      <td>16906900.0</td>\n",
       "    </tr>\n",
       "  </tbody>\n",
       "</table>\n",
       "</div>"
      ],
      "text/plain": [
       "        Date        Open        High         Low       Close   Adj Close  \\\n",
       "0 2018-02-05  262.000000  267.899994  250.029999  254.259995  254.259995   \n",
       "1 2018-02-06  247.699997  266.700012  245.000000  265.720001  265.720001   \n",
       "2 2018-02-07  266.579987  272.450012  264.329987  264.559998  264.559998   \n",
       "3 2018-02-08  267.079987  267.619995  250.000000  250.100006  250.100006   \n",
       "4 2018-02-09  253.850006  255.800003  236.110001  249.470001  249.470001   \n",
       "\n",
       "       Volume  \n",
       "0  11896100.0  \n",
       "1  12595800.0  \n",
       "2   8981500.0  \n",
       "3   9306700.0  \n",
       "4  16906900.0  "
      ]
     },
     "execution_count": 3,
     "metadata": {},
     "output_type": "execute_result"
    }
   ],
   "source": [
    "df.head()"
   ]
  },
  {
   "cell_type": "code",
   "execution_count": 4,
   "id": "251fc645",
   "metadata": {},
   "outputs": [
    {
     "name": "stdout",
     "output_type": "stream",
     "text": [
      "<class 'pandas.core.frame.DataFrame'>\n",
      "RangeIndex: 1009 entries, 0 to 1008\n",
      "Data columns (total 7 columns):\n",
      " #   Column     Non-Null Count  Dtype         \n",
      "---  ------     --------------  -----         \n",
      " 0   Date       1009 non-null   datetime64[ns]\n",
      " 1   Open       1009 non-null   float64       \n",
      " 2   High       1009 non-null   float64       \n",
      " 3   Low        1009 non-null   float64       \n",
      " 4   Close      1009 non-null   float64       \n",
      " 5   Adj Close  1009 non-null   float64       \n",
      " 6   Volume     1009 non-null   float64       \n",
      "dtypes: datetime64[ns](1), float64(6)\n",
      "memory usage: 55.3 KB\n"
     ]
    }
   ],
   "source": [
    "df.info()"
   ]
  },
  {
   "cell_type": "code",
   "execution_count": 5,
   "id": "9965f590",
   "metadata": {},
   "outputs": [
    {
     "data": {
      "text/plain": [
       "(1009, 7)"
      ]
     },
     "execution_count": 5,
     "metadata": {},
     "output_type": "execute_result"
    }
   ],
   "source": [
    "df.shape"
   ]
  },
  {
   "cell_type": "code",
   "execution_count": 6,
   "id": "a51599c2",
   "metadata": {},
   "outputs": [
    {
     "data": {
      "text/plain": [
       "Date         1009\n",
       "Open         1009\n",
       "High         1009\n",
       "Low          1009\n",
       "Close        1009\n",
       "Adj Close    1009\n",
       "Volume       1009\n",
       "dtype: int64"
      ]
     },
     "execution_count": 6,
     "metadata": {},
     "output_type": "execute_result"
    }
   ],
   "source": [
    "df.count()"
   ]
  },
  {
   "cell_type": "code",
   "execution_count": 7,
   "id": "cd72e262",
   "metadata": {},
   "outputs": [
    {
     "data": {
      "text/plain": [
       "Date         datetime64[ns]\n",
       "Open                float64\n",
       "High                float64\n",
       "Low                 float64\n",
       "Close               float64\n",
       "Adj Close           float64\n",
       "Volume              float64\n",
       "dtype: object"
      ]
     },
     "execution_count": 7,
     "metadata": {},
     "output_type": "execute_result"
    }
   ],
   "source": [
    "df.dtypes"
   ]
  },
  {
   "cell_type": "code",
   "execution_count": 8,
   "id": "96e7bee3",
   "metadata": {},
   "outputs": [
    {
     "data": {
      "text/html": [
       "<div>\n",
       "<style scoped>\n",
       "    .dataframe tbody tr th:only-of-type {\n",
       "        vertical-align: middle;\n",
       "    }\n",
       "\n",
       "    .dataframe tbody tr th {\n",
       "        vertical-align: top;\n",
       "    }\n",
       "\n",
       "    .dataframe thead th {\n",
       "        text-align: right;\n",
       "    }\n",
       "</style>\n",
       "<table border=\"1\" class=\"dataframe\">\n",
       "  <thead>\n",
       "    <tr style=\"text-align: right;\">\n",
       "      <th></th>\n",
       "      <th>Open</th>\n",
       "      <th>High</th>\n",
       "      <th>Low</th>\n",
       "      <th>Close</th>\n",
       "      <th>Adj Close</th>\n",
       "      <th>Volume</th>\n",
       "    </tr>\n",
       "  </thead>\n",
       "  <tbody>\n",
       "    <tr>\n",
       "      <th>count</th>\n",
       "      <td>1009.000000</td>\n",
       "      <td>1009.000000</td>\n",
       "      <td>1009.000000</td>\n",
       "      <td>1009.000000</td>\n",
       "      <td>1009.000000</td>\n",
       "      <td>1.009000e+03</td>\n",
       "    </tr>\n",
       "    <tr>\n",
       "      <th>mean</th>\n",
       "      <td>419.059673</td>\n",
       "      <td>425.320703</td>\n",
       "      <td>412.374044</td>\n",
       "      <td>419.000733</td>\n",
       "      <td>419.000733</td>\n",
       "      <td>7.570685e+06</td>\n",
       "    </tr>\n",
       "    <tr>\n",
       "      <th>std</th>\n",
       "      <td>108.537532</td>\n",
       "      <td>109.262960</td>\n",
       "      <td>107.555867</td>\n",
       "      <td>108.289999</td>\n",
       "      <td>108.289999</td>\n",
       "      <td>5.465535e+06</td>\n",
       "    </tr>\n",
       "    <tr>\n",
       "      <th>min</th>\n",
       "      <td>233.919998</td>\n",
       "      <td>250.649994</td>\n",
       "      <td>231.229996</td>\n",
       "      <td>233.880005</td>\n",
       "      <td>233.880005</td>\n",
       "      <td>1.144000e+06</td>\n",
       "    </tr>\n",
       "    <tr>\n",
       "      <th>25%</th>\n",
       "      <td>331.489990</td>\n",
       "      <td>336.299988</td>\n",
       "      <td>326.000000</td>\n",
       "      <td>331.619995</td>\n",
       "      <td>331.619995</td>\n",
       "      <td>4.091900e+06</td>\n",
       "    </tr>\n",
       "    <tr>\n",
       "      <th>50%</th>\n",
       "      <td>377.769989</td>\n",
       "      <td>383.010010</td>\n",
       "      <td>370.880005</td>\n",
       "      <td>378.670013</td>\n",
       "      <td>378.670013</td>\n",
       "      <td>5.934500e+06</td>\n",
       "    </tr>\n",
       "    <tr>\n",
       "      <th>75%</th>\n",
       "      <td>509.130005</td>\n",
       "      <td>515.630005</td>\n",
       "      <td>502.529999</td>\n",
       "      <td>509.079987</td>\n",
       "      <td>509.079987</td>\n",
       "      <td>9.322400e+06</td>\n",
       "    </tr>\n",
       "    <tr>\n",
       "      <th>max</th>\n",
       "      <td>692.349976</td>\n",
       "      <td>700.989990</td>\n",
       "      <td>686.090027</td>\n",
       "      <td>691.690002</td>\n",
       "      <td>691.690002</td>\n",
       "      <td>5.890430e+07</td>\n",
       "    </tr>\n",
       "  </tbody>\n",
       "</table>\n",
       "</div>"
      ],
      "text/plain": [
       "              Open         High          Low        Close    Adj Close  \\\n",
       "count  1009.000000  1009.000000  1009.000000  1009.000000  1009.000000   \n",
       "mean    419.059673   425.320703   412.374044   419.000733   419.000733   \n",
       "std     108.537532   109.262960   107.555867   108.289999   108.289999   \n",
       "min     233.919998   250.649994   231.229996   233.880005   233.880005   \n",
       "25%     331.489990   336.299988   326.000000   331.619995   331.619995   \n",
       "50%     377.769989   383.010010   370.880005   378.670013   378.670013   \n",
       "75%     509.130005   515.630005   502.529999   509.079987   509.079987   \n",
       "max     692.349976   700.989990   686.090027   691.690002   691.690002   \n",
       "\n",
       "             Volume  \n",
       "count  1.009000e+03  \n",
       "mean   7.570685e+06  \n",
       "std    5.465535e+06  \n",
       "min    1.144000e+06  \n",
       "25%    4.091900e+06  \n",
       "50%    5.934500e+06  \n",
       "75%    9.322400e+06  \n",
       "max    5.890430e+07  "
      ]
     },
     "execution_count": 8,
     "metadata": {},
     "output_type": "execute_result"
    }
   ],
   "source": [
    "df.describe()"
   ]
  },
  {
   "cell_type": "code",
   "execution_count": 10,
   "id": "092a048b",
   "metadata": {},
   "outputs": [
    {
     "data": {
      "text/plain": [
       "Date         0\n",
       "Open         0\n",
       "High         0\n",
       "Low          0\n",
       "Close        0\n",
       "Adj Close    0\n",
       "Volume       0\n",
       "dtype: int64"
      ]
     },
     "execution_count": 10,
     "metadata": {},
     "output_type": "execute_result"
    }
   ],
   "source": [
    "df.isna().sum()"
   ]
  },
  {
   "cell_type": "code",
   "execution_count": 14,
   "id": "0df475c8",
   "metadata": {},
   "outputs": [
    {
     "data": {
      "image/png": "[encoded data removed]",
      "text/plain": [
       "<Figure size 1152x576 with 1 Axes>"
      ]
     },
     "metadata": {
      "needs_background": "light"
     },
     "output_type": "display_data"
    }
   ],
   "source": [
    "#plotting close price{}\n",
    "plt.figure(figsize=(16,8))\n",
    "plt.title('Close Price')\n",
    "plt.xlabel('Date')\n",
    "plt.ylabel('Close Price USD ($)',fontsize=18)\n",
    "plt.plot(df['Close'])\n",
    "plt.show()"
   ]
  },
  {
   "cell_type": "code",
   "execution_count": 15,
   "id": "b83268ed",
   "metadata": {},
   "outputs": [],
   "source": [
    "#scaling data\n",
    "scaler = MinMaxScaler(feature_range=(0, 1))\n",
    "scaled_data = scaler.fit_transform(df['Close'].values.reshape(-1, 1))"
   ]
  },
  {
   "cell_type": "code",
   "execution_count": 16,
   "id": "b4ca9614",
   "metadata": {},
   "outputs": [],
   "source": [
    "# split data into training and testing datasets\n",
    "training_size = int(len(scaled_data) * 0.8)\n",
    "testing_size = len(scaled_data) - training_size\n",
    "train_data, test_data = scaled_data[0:training_size,:], scaled_data[training_size:len(scaled_data),:]\n"
   ]
  },
  {
   "cell_type": "code",
   "execution_count": 17,
   "id": "93e5bacf",
   "metadata": {},
   "outputs": [],
   "source": [
    "# create input and output data for LSTM model\n",
    "def create_data(dataset, lookback=1):\n",
    "    dataX, dataY = [], []\n",
    "    for i in range(len(dataset)-lookback-1):\n",
    "        a = dataset[i:(i+lookback), 0]\n",
    "        dataX.append(a)\n",
    "        dataY.append(dataset[i + lookback, 0])\n",
    "    return np.array(dataX), np.array(dataY)\n",
    "\n",
    "lookback = 20\n",
    "trainX, trainY = create_data(train_data, lookback)\n",
    "testX, testY = create_data(test_data, lookback)"
   ]
  },
  {
   "cell_type": "code",
   "execution_count": 18,
   "id": "6ea538ab",
   "metadata": {},
   "outputs": [],
   "source": [
    "# create LSTM model\n",
    "model = Sequential()\n",
    "model.add(LSTM(50, input_shape=(lookback, 1)))\n",
    "model.add(Dense(1))\n",
    "model.compile(loss='mean_squared_error', optimizer='adam')"
   ]
  },
  {
   "cell_type": "code",
   "execution_count": 19,
   "id": "210a43a9",
   "metadata": {},
   "outputs": [
    {
     "name": "stdout",
     "output_type": "stream",
     "text": [
      "Epoch 1/100\n",
      "786/786 - 9s - loss: 0.0030 - 9s/epoch - 12ms/step\n",
      "Epoch 2/100\n",
      "786/786 - 5s - loss: 0.0012 - 5s/epoch - 6ms/step\n",
      "Epoch 3/100\n",
      "786/786 - 5s - loss: 0.0010 - 5s/epoch - 7ms/step\n",
      "Epoch 4/100\n",
      "786/786 - 5s - loss: 9.2875e-04 - 5s/epoch - 7ms/step\n",
      "Epoch 5/100\n",
      "786/786 - 5s - loss: 7.9644e-04 - 5s/epoch - 6ms/step\n",
      "Epoch 6/100\n",
      "786/786 - 5s - loss: 6.8196e-04 - 5s/epoch - 6ms/step\n",
      "Epoch 7/100\n",
      "786/786 - 5s - loss: 7.6252e-04 - 5s/epoch - 6ms/step\n",
      "Epoch 8/100\n",
      "786/786 - 5s - loss: 6.6653e-04 - 5s/epoch - 7ms/step\n",
      "Epoch 9/100\n",
      "786/786 - 5s - loss: 6.3916e-04 - 5s/epoch - 7ms/step\n",
      "Epoch 10/100\n",
      "786/786 - 5s - loss: 6.8096e-04 - 5s/epoch - 6ms/step\n",
      "Epoch 11/100\n",
      "786/786 - 5s - loss: 6.4785e-04 - 5s/epoch - 7ms/step\n",
      "Epoch 12/100\n",
      "786/786 - 5s - loss: 6.3055e-04 - 5s/epoch - 7ms/step\n",
      "Epoch 13/100\n",
      "786/786 - 5s - loss: 6.3046e-04 - 5s/epoch - 6ms/step\n",
      "Epoch 14/100\n",
      "786/786 - 5s - loss: 6.7853e-04 - 5s/epoch - 6ms/step\n",
      "Epoch 15/100\n",
      "786/786 - 5s - loss: 6.1418e-04 - 5s/epoch - 6ms/step\n",
      "Epoch 16/100\n",
      "786/786 - 5s - loss: 6.0869e-04 - 5s/epoch - 6ms/step\n",
      "Epoch 17/100\n",
      "786/786 - 5s - loss: 6.1245e-04 - 5s/epoch - 6ms/step\n",
      "Epoch 18/100\n",
      "786/786 - 5s - loss: 6.2259e-04 - 5s/epoch - 6ms/step\n",
      "Epoch 19/100\n",
      "786/786 - 5s - loss: 6.3606e-04 - 5s/epoch - 6ms/step\n",
      "Epoch 20/100\n",
      "786/786 - 5s - loss: 6.5218e-04 - 5s/epoch - 6ms/step\n",
      "Epoch 21/100\n",
      "786/786 - 5s - loss: 6.0483e-04 - 5s/epoch - 6ms/step\n",
      "Epoch 22/100\n",
      "786/786 - 5s - loss: 6.0875e-04 - 5s/epoch - 6ms/step\n",
      "Epoch 23/100\n",
      "786/786 - 5s - loss: 6.1497e-04 - 5s/epoch - 6ms/step\n",
      "Epoch 24/100\n",
      "786/786 - 5s - loss: 6.1374e-04 - 5s/epoch - 6ms/step\n",
      "Epoch 25/100\n",
      "786/786 - 5s - loss: 5.9642e-04 - 5s/epoch - 7ms/step\n",
      "Epoch 26/100\n",
      "786/786 - 5s - loss: 6.3093e-04 - 5s/epoch - 6ms/step\n",
      "Epoch 27/100\n",
      "786/786 - 5s - loss: 5.9598e-04 - 5s/epoch - 6ms/step\n",
      "Epoch 28/100\n",
      "786/786 - 6s - loss: 5.9722e-04 - 6s/epoch - 7ms/step\n",
      "Epoch 29/100\n",
      "786/786 - 5s - loss: 6.1540e-04 - 5s/epoch - 7ms/step\n",
      "Epoch 30/100\n",
      "786/786 - 6s - loss: 6.1332e-04 - 6s/epoch - 7ms/step\n",
      "Epoch 31/100\n",
      "786/786 - 5s - loss: 6.0330e-04 - 5s/epoch - 7ms/step\n",
      "Epoch 32/100\n",
      "786/786 - 5s - loss: 5.9645e-04 - 5s/epoch - 6ms/step\n",
      "Epoch 33/100\n",
      "786/786 - 5s - loss: 5.8530e-04 - 5s/epoch - 6ms/step\n",
      "Epoch 34/100\n",
      "786/786 - 5s - loss: 5.8846e-04 - 5s/epoch - 6ms/step\n",
      "Epoch 35/100\n",
      "786/786 - 5s - loss: 6.1752e-04 - 5s/epoch - 6ms/step\n",
      "Epoch 36/100\n",
      "786/786 - 5s - loss: 5.7839e-04 - 5s/epoch - 6ms/step\n",
      "Epoch 37/100\n",
      "786/786 - 5s - loss: 5.7790e-04 - 5s/epoch - 7ms/step\n",
      "Epoch 38/100\n",
      "786/786 - 5s - loss: 6.1195e-04 - 5s/epoch - 6ms/step\n",
      "Epoch 39/100\n",
      "786/786 - 5s - loss: 5.7324e-04 - 5s/epoch - 7ms/step\n",
      "Epoch 40/100\n",
      "786/786 - 5s - loss: 6.0348e-04 - 5s/epoch - 6ms/step\n",
      "Epoch 41/100\n",
      "786/786 - 5s - loss: 6.0416e-04 - 5s/epoch - 6ms/step\n",
      "Epoch 42/100\n",
      "786/786 - 5s - loss: 6.1057e-04 - 5s/epoch - 7ms/step\n",
      "Epoch 43/100\n",
      "786/786 - 5s - loss: 5.9107e-04 - 5s/epoch - 6ms/step\n",
      "Epoch 44/100\n",
      "786/786 - 5s - loss: 5.9228e-04 - 5s/epoch - 6ms/step\n",
      "Epoch 45/100\n",
      "786/786 - 5s - loss: 5.8273e-04 - 5s/epoch - 6ms/step\n",
      "Epoch 46/100\n",
      "786/786 - 5s - loss: 5.8770e-04 - 5s/epoch - 6ms/step\n",
      "Epoch 47/100\n",
      "786/786 - 5s - loss: 5.5237e-04 - 5s/epoch - 7ms/step\n",
      "Epoch 48/100\n",
      "786/786 - 5s - loss: 5.8295e-04 - 5s/epoch - 6ms/step\n",
      "Epoch 49/100\n",
      "786/786 - 5s - loss: 5.8129e-04 - 5s/epoch - 6ms/step\n",
      "Epoch 50/100\n",
      "786/786 - 5s - loss: 5.6310e-04 - 5s/epoch - 7ms/step\n",
      "Epoch 51/100\n",
      "786/786 - 5s - loss: 5.8069e-04 - 5s/epoch - 7ms/step\n",
      "Epoch 52/100\n",
      "786/786 - 5s - loss: 5.9633e-04 - 5s/epoch - 6ms/step\n",
      "Epoch 53/100\n",
      "786/786 - 5s - loss: 5.8620e-04 - 5s/epoch - 6ms/step\n",
      "Epoch 54/100\n",
      "786/786 - 5s - loss: 5.9584e-04 - 5s/epoch - 7ms/step\n",
      "Epoch 55/100\n",
      "786/786 - 5s - loss: 6.0780e-04 - 5s/epoch - 6ms/step\n",
      "Epoch 56/100\n",
      "786/786 - 5s - loss: 5.7749e-04 - 5s/epoch - 6ms/step\n",
      "Epoch 57/100\n",
      "786/786 - 5s - loss: 5.8640e-04 - 5s/epoch - 6ms/step\n",
      "Epoch 58/100\n",
      "786/786 - 5s - loss: 5.7882e-04 - 5s/epoch - 6ms/step\n",
      "Epoch 59/100\n",
      "786/786 - 5s - loss: 5.9884e-04 - 5s/epoch - 7ms/step\n",
      "Epoch 60/100\n",
      "786/786 - 5s - loss: 5.8446e-04 - 5s/epoch - 6ms/step\n",
      "Epoch 61/100\n",
      "786/786 - 5s - loss: 5.6680e-04 - 5s/epoch - 6ms/step\n",
      "Epoch 62/100\n",
      "786/786 - 5s - loss: 5.8804e-04 - 5s/epoch - 6ms/step\n",
      "Epoch 63/100\n",
      "786/786 - 5s - loss: 5.6829e-04 - 5s/epoch - 7ms/step\n",
      "Epoch 64/100\n",
      "786/786 - 5s - loss: 5.7867e-04 - 5s/epoch - 6ms/step\n",
      "Epoch 65/100\n",
      "786/786 - 5s - loss: 5.8480e-04 - 5s/epoch - 6ms/step\n",
      "Epoch 66/100\n",
      "786/786 - 5s - loss: 5.8596e-04 - 5s/epoch - 6ms/step\n",
      "Epoch 67/100\n",
      "786/786 - 5s - loss: 5.7087e-04 - 5s/epoch - 6ms/step\n",
      "Epoch 68/100\n",
      "786/786 - 5s - loss: 5.7988e-04 - 5s/epoch - 6ms/step\n",
      "Epoch 69/100\n",
      "786/786 - 5s - loss: 5.5503e-04 - 5s/epoch - 6ms/step\n",
      "Epoch 70/100\n",
      "786/786 - 5s - loss: 5.8455e-04 - 5s/epoch - 6ms/step\n",
      "Epoch 71/100\n",
      "786/786 - 5s - loss: 5.9126e-04 - 5s/epoch - 6ms/step\n",
      "Epoch 72/100\n",
      "786/786 - 5s - loss: 5.6015e-04 - 5s/epoch - 6ms/step\n",
      "Epoch 73/100\n",
      "786/786 - 5s - loss: 5.7407e-04 - 5s/epoch - 6ms/step\n",
      "Epoch 74/100\n",
      "786/786 - 5s - loss: 5.9079e-04 - 5s/epoch - 7ms/step\n",
      "Epoch 75/100\n",
      "786/786 - 5s - loss: 5.8213e-04 - 5s/epoch - 7ms/step\n",
      "Epoch 76/100\n",
      "786/786 - 5s - loss: 5.6116e-04 - 5s/epoch - 7ms/step\n",
      "Epoch 77/100\n",
      "786/786 - 5s - loss: 5.7197e-04 - 5s/epoch - 6ms/step\n",
      "Epoch 78/100\n",
      "786/786 - 5s - loss: 5.8588e-04 - 5s/epoch - 6ms/step\n",
      "Epoch 79/100\n",
      "786/786 - 5s - loss: 5.7249e-04 - 5s/epoch - 6ms/step\n",
      "Epoch 80/100\n",
      "786/786 - 5s - loss: 5.8054e-04 - 5s/epoch - 6ms/step\n",
      "Epoch 81/100\n",
      "786/786 - 5s - loss: 5.7337e-04 - 5s/epoch - 6ms/step\n",
      "Epoch 82/100\n",
      "786/786 - 5s - loss: 5.7091e-04 - 5s/epoch - 6ms/step\n",
      "Epoch 83/100\n",
      "786/786 - 5s - loss: 5.8387e-04 - 5s/epoch - 6ms/step\n",
      "Epoch 84/100\n",
      "786/786 - 5s - loss: 5.8367e-04 - 5s/epoch - 6ms/step\n",
      "Epoch 85/100\n",
      "786/786 - 5s - loss: 5.6970e-04 - 5s/epoch - 6ms/step\n",
      "Epoch 86/100\n",
      "786/786 - 5s - loss: 5.7292e-04 - 5s/epoch - 6ms/step\n",
      "Epoch 87/100\n",
      "786/786 - 5s - loss: 5.8324e-04 - 5s/epoch - 6ms/step\n",
      "Epoch 88/100\n",
      "786/786 - 5s - loss: 5.5975e-04 - 5s/epoch - 7ms/step\n",
      "Epoch 89/100\n",
      "786/786 - 5s - loss: 5.7817e-04 - 5s/epoch - 7ms/step\n",
      "Epoch 90/100\n",
      "786/786 - 5s - loss: 5.6525e-04 - 5s/epoch - 6ms/step\n",
      "Epoch 91/100\n",
      "786/786 - 5s - loss: 5.5905e-04 - 5s/epoch - 6ms/step\n",
      "Epoch 92/100\n",
      "786/786 - 5s - loss: 5.6428e-04 - 5s/epoch - 6ms/step\n",
      "Epoch 93/100\n",
      "786/786 - 5s - loss: 5.5984e-04 - 5s/epoch - 6ms/step\n",
      "Epoch 94/100\n",
      "786/786 - 5s - loss: 5.6717e-04 - 5s/epoch - 6ms/step\n",
      "Epoch 95/100\n",
      "786/786 - 5s - loss: 5.7872e-04 - 5s/epoch - 6ms/step\n",
      "Epoch 96/100\n",
      "786/786 - 5s - loss: 5.7613e-04 - 5s/epoch - 6ms/step\n",
      "Epoch 97/100\n",
      "786/786 - 5s - loss: 5.7007e-04 - 5s/epoch - 6ms/step\n",
      "Epoch 98/100\n",
      "786/786 - 5s - loss: 5.4856e-04 - 5s/epoch - 7ms/step\n",
      "Epoch 99/100\n",
      "786/786 - 5s - loss: 5.5486e-04 - 5s/epoch - 6ms/step\n",
      "Epoch 100/100\n",
      "786/786 - 5s - loss: 5.8125e-04 - 5s/epoch - 6ms/step\n"
     ]
    },
    {
     "data": {
      "text/plain": [
       "<keras.callbacks.History at 0x24195386ee0>"
      ]
     },
     "execution_count": 19,
     "metadata": {},
     "output_type": "execute_result"
    }
   ],
   "source": [
    "# train LSTM model\n",
    "model.fit(trainX, trainY, epochs=100, batch_size=1, verbose=2)\n"
   ]
  },
  {
   "cell_type": "code",
   "execution_count": 22,
   "id": "b0dd5d63",
   "metadata": {},
   "outputs": [
    {
     "name": "stdout",
     "output_type": "stream",
     "text": [
      "25/25 [==============================] - 1s 6ms/step\n",
      "6/6 [==============================] - 0s 7ms/step\n"
     ]
    }
   ],
   "source": [
    "# make predictions using LSTM model\n",
    "trainPredict = model.predict(trainX)\n",
    "testPredict = model.predict(testX)\n"
   ]
  },
  {
   "cell_type": "code",
   "execution_count": 23,
   "id": "fb062fe5",
   "metadata": {},
   "outputs": [],
   "source": [
    "trainPredict = scaler.inverse_transform(trainPredict)\n",
    "trainY = scaler.inverse_transform([trainY])\n",
    "testPredict = scaler.inverse_transform(testPredict)\n",
    "testY = scaler.inverse_transform([testY])\n"
   ]
  },
  {
   "cell_type": "code",
   "execution_count": 24,
   "id": "94d6d9b1",
   "metadata": {},
   "outputs": [
    {
     "name": "stdout",
     "output_type": "stream",
     "text": [
      "Train RMSE: 10.31\n",
      "Test RMSE: 18.73\n"
     ]
    }
   ],
   "source": [
    "trainScore = np.sqrt(np.mean((trainY[0] - trainPredict[:,0])**2))\n",
    "print('Train RMSE: {:.2f}'.format(trainScore))\n",
    "testScore = np.sqrt(np.mean((testY[0] - testPredict[:,0])**2))\n",
    "print('Test RMSE: {:.2f}'.format(testScore))\n"
   ]
  },
  {
   "cell_type": "code",
   "execution_count": 26,
   "id": "28093baa",
   "metadata": {},
   "outputs": [
    {
     "data": {
      "image/png": "[encoded data removed]",
      "text/plain": [
       "<Figure size 432x288 with 1 Axes>"
      ]
     },
     "metadata": {
      "needs_background": "light"
     },
     "output_type": "display_data"
    }
   ],
   "source": [
    "trainPredictPlot = np.empty_like(scaled_data)\n",
    "trainPredictPlot[:, :] = np.nan\n",
    "trainPredictPlot[lookback:len(trainPredict)+lookback, :] = trainPredict\n",
    "testPredictPlot = np.empty_like(scaled_data)\n",
    "testPredictPlot[:, :] = np.nan\n",
    "testPredictPlot[len(trainPredict)+(lookback*2)+1:len(scaled_data)-1, :] = testPredict\n",
    "plt.plot(scaler.inverse_transform(scaled_data))\n",
    "plt.plot(trainPredictPlot)\n",
    "plt.plot(testPredictPlot)\n",
    "plt.legend(['Actual', 'Training Predictions', 'Testing Predictions'])\n",
    "plt.show()\n",
    "plt.show()"
   ]
  }
 ],
 "metadata": {
  "kernelspec": {
   "display_name": "Python 3 (ipykernel)",
   "language": "python",
   "name": "python3"
  },
  "language_info": {
   "codemirror_mode": {
    "name": "ipython",
    "version": 3
   },
   "file_extension": ".py",
   "mimetype": "text/x-python",
   "name": "python",
   "nbconvert_exporter": "python",
   "pygments_lexer": "ipython3",
   "version": "3.9.12"
  }
 },
 "nbformat": 4,
 "nbformat_minor": 5
}
